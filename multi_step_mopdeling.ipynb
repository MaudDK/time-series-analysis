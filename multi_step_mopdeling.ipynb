{
 "cells": [
  {
   "cell_type": "code",
   "execution_count": null,
   "metadata": {},
   "outputs": [],
   "source": [
    "import os\n",
    "import sys\n",
    "\n",
    "sys.path.append('./src/')\n",
    "\n",
    "import IPython\n",
    "import IPython.display\n",
    "\n",
    "import matplotlib.pyplot as plt\n",
    "\n",
    "import numpy as np\n",
    "import tensorflow as tf\n",
    "\n",
    "import yfinance as yf\n",
    "\n",
    "#Helpers\n",
    "from WindowGenerator import WindowGenerator\n",
    "from models import compile_and_fit\n",
    "from models import Baseline, ResidualWrapper\n",
    "\n",
    "BTC = yf.download(tickers='BTC-USD', start='2014-09-17', end='2024-09-30')"
   ]
  },
  {
   "cell_type": "code",
   "execution_count": null,
   "metadata": {},
   "outputs": [],
   "source": []
  }
 ],
 "metadata": {
  "kernelspec": {
   "display_name": ".tensorflow",
   "language": "python",
   "name": "python3"
  },
  "language_info": {
   "name": "python",
   "version": "3.9.10"
  }
 },
 "nbformat": 4,
 "nbformat_minor": 2
}
